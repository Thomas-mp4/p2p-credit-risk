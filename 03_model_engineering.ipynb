{
 "cells": [
  {
   "metadata": {
    "ExecuteTime": {
     "end_time": "2025-06-06T16:10:40.619629Z",
     "start_time": "2025-06-06T16:10:40.558959Z"
    }
   },
   "cell_type": "code",
   "source": [
    "import pandas as pd\n",
    "import matplotlib.pyplot as plt\n",
    "from catboost import CatBoostClassifier\n",
    "\n",
    "from sklearn.metrics import (\n",
    "    roc_auc_score,\n",
    "    classification_report,\n",
    "    confusion_matrix,\n",
    "    ConfusionMatrixDisplay,\n",
    ")"
   ],
   "id": "36a822b2f765a4ec",
   "outputs": [],
   "execution_count": 20
  },
  {
   "metadata": {
    "ExecuteTime": {
     "end_time": "2025-06-06T16:10:41.537250Z",
     "start_time": "2025-06-06T16:10:40.639107Z"
    }
   },
   "cell_type": "code",
   "source": [
    "# Load data\n",
    "X_train = pd.read_csv('ml/X_train_scaled.csv')\n",
    "X_val = pd.read_csv('ml/X_val_scaled.csv')\n",
    "X_test = pd.read_csv('ml/X_test_scaled.csv')\n",
    "\n",
    "y_train = pd.read_csv('ml/y_train.csv').squeeze()\n",
    "y_val = pd.read_csv('ml/y_val.csv').squeeze()\n",
    "y_test = pd.read_csv('ml/y_test.csv').squeeze()\n",
    "\n",
    "print(\"Data loaded successfully!\")\n",
    "print(\"X_train shape:\", X_train.shape)\n",
    "print(\"X_val shape:\", X_val.shape)\n",
    "print(\"X_test shape:\", X_test.shape)"
   ],
   "id": "8ba5a5ffb0b11806",
   "outputs": [
    {
     "name": "stdout",
     "output_type": "stream",
     "text": [
      "Data loaded successfully!\n",
      "X_train shape: (104065, 39)\n",
      "X_val shape: (26017, 39)\n",
      "X_test shape: (270038, 39)\n"
     ]
    }
   ],
   "execution_count": 21
  },
  {
   "metadata": {
    "ExecuteTime": {
     "end_time": "2025-06-06T16:10:44.965114Z",
     "start_time": "2025-06-06T16:10:41.550854Z"
    }
   },
   "cell_type": "code",
   "source": [
    "# Initialize the CatBoost Classifier\n",
    "cat_model = CatBoostClassifier(\n",
    "    loss_function='Logloss',\n",
    "    auto_class_weights='Balanced',\n",
    "    iterations=1000,\n",
    "    random_seed=0,\n",
    "    verbose=True,\n",
    "    eval_metric='AUC'\n",
    ")\n",
    "\n",
    "# Train the CatBoost model\n",
    "print(\"\\nTraining CatBoostClassifier model...\")\n",
    "cat_model.fit(\n",
    "    X_train, y_train,\n",
    "    eval_set=(X_val, y_val),\n",
    "    early_stopping_rounds=50,\n",
    "    verbose=True\n",
    ")\n",
    "print(\"\\nTraining complete.\")\n",
    "print(f\"Model stopped after {cat_model.get_best_iteration()} iterations.\")"
   ],
   "id": "b7ea2ac6f962c0e",
   "outputs": [
    {
     "name": "stdout",
     "output_type": "stream",
     "text": [
      "\n",
      "Training CatBoostClassifier model...\n",
      "Learning rate set to 0.099812\n",
      "0:\ttest: 0.6557815\tbest: 0.6557815 (0)\ttotal: 67.7ms\tremaining: 1m 7s\n",
      "100:\ttest: 0.6955223\tbest: 0.6955470 (98)\ttotal: 699ms\tremaining: 6.22s\n",
      "200:\ttest: 0.7009458\tbest: 0.7009681 (198)\ttotal: 1.36s\tremaining: 5.41s\n",
      "300:\ttest: 0.7040635\tbest: 0.7040676 (299)\ttotal: 1.99s\tremaining: 4.62s\n",
      "400:\ttest: 0.7043122\tbest: 0.7045114 (373)\ttotal: 2.68s\tremaining: 4.01s\n",
      "Stopped by overfitting detector  (50 iterations wait)\n",
      "\n",
      "bestTest = 0.7048184984\n",
      "bestIteration = 446\n",
      "\n",
      "Shrink model to first 447 iterations.\n",
      "\n",
      "Training complete.\n",
      "Model stopped after 446 iterations.\n"
     ]
    }
   ],
   "execution_count": 22
  },
  {
   "metadata": {
    "ExecuteTime": {
     "end_time": "2025-06-06T16:10:45.005135Z",
     "start_time": "2025-06-06T16:10:44.981905Z"
    }
   },
   "cell_type": "code",
   "source": [
    "#  Evaluate on the Validation Set\n",
    "print(\"\\n--- Model Performance on Validation Set ---\")\n",
    "y_pred_val = cat_model.predict(X_val)\n",
    "y_pred_proba_val = cat_model.predict_proba(X_val)[:, 1]\n",
    "auc_score_val = roc_auc_score(y_val, y_pred_proba_val)\n",
    "print(f\"ROC AUC Score (Validation): {auc_score_val:.4f}\\n\")\n",
    "print(classification_report(y_val, y_pred_val))"
   ],
   "id": "7c0950c39d7dcb35",
   "outputs": [
    {
     "name": "stdout",
     "output_type": "stream",
     "text": [
      "\n",
      "--- Model Performance on Validation Set ---\n",
      "ROC AUC Score (Validation): 0.7048\n",
      "\n",
      "              precision    recall  f1-score   support\n",
      "\n",
      "           0       0.64      0.55      0.59     11784\n",
      "           1       0.66      0.74      0.70     14233\n",
      "\n",
      "    accuracy                           0.65     26017\n",
      "   macro avg       0.65      0.64      0.64     26017\n",
      "weighted avg       0.65      0.65      0.65     26017\n",
      "\n"
     ]
    }
   ],
   "execution_count": 23
  },
  {
   "metadata": {
    "ExecuteTime": {
     "end_time": "2025-06-06T16:10:45.181472Z",
     "start_time": "2025-06-06T16:10:45.026120Z"
    }
   },
   "cell_type": "code",
   "source": [
    "# Evaluate on the Test Set\n",
    "print(\"\\n--- Model Performance on Test Set ---\")\n",
    "y_pred_test = cat_model.predict(X_test)\n",
    "y_pred_proba_test = cat_model.predict_proba(X_test)[:, 1]\n",
    "\n",
    "auc_score = roc_auc_score(y_test, y_pred_proba_test)\n",
    "class_report = classification_report(y_test, y_pred_test)\n",
    "\n",
    "print(f\"ROC AUC Score (Test): {auc_score:.4f}\")\n",
    "print(\"\\nClassification Report:\")\n",
    "print(class_report)"
   ],
   "id": "6df272fa59386455",
   "outputs": [
    {
     "name": "stdout",
     "output_type": "stream",
     "text": [
      "\n",
      "--- Model Performance on Test Set ---\n",
      "ROC AUC Score (Test): 0.6788\n",
      "\n",
      "Classification Report:\n",
      "              precision    recall  f1-score   support\n",
      "\n",
      "           0       0.86      0.76      0.81    218950\n",
      "           1       0.32      0.48      0.39     51088\n",
      "\n",
      "    accuracy                           0.71    270038\n",
      "   macro avg       0.59      0.62      0.60    270038\n",
      "weighted avg       0.76      0.71      0.73    270038\n",
      "\n"
     ]
    }
   ],
   "execution_count": 24
  },
  {
   "metadata": {
    "ExecuteTime": {
     "end_time": "2025-06-06T16:10:45.251602Z",
     "start_time": "2025-06-06T16:10:45.201114Z"
    }
   },
   "cell_type": "code",
   "source": [
    "# Visualize the Confusion Matrix\n",
    "cm = confusion_matrix(y_test, y_pred_test)\n",
    "disp = ConfusionMatrixDisplay(\n",
    "    confusion_matrix=cm,\n",
    "    display_labels=['Not Defaulted', 'Defaulted']\n",
    ")\n",
    "fig, ax = plt.subplots(figsize=(8, 6))\n",
    "disp.plot(ax=ax, cmap='Blues')\n",
    "ax.set_title('Confusion Matrix on Test Set (CatBoost)', fontsize=16)\n",
    "plt.show()"
   ],
   "id": "a92675e8c4800264",
   "outputs": [
    {
     "data": {
      "text/plain": [
       "<Figure size 800x600 with 2 Axes>"
      ],
      "image/png": "[encoded data removed]"
     },
     "metadata": {},
     "output_type": "display_data"
    }
   ],
   "execution_count": 25
  }
 ],
 "metadata": {},
 "nbformat": 4,
 "nbformat_minor": 5
}

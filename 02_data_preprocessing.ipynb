{
 "cells": [
  {
   "metadata": {},
   "cell_type": "markdown",
   "source": [
    "# Data Preprocessing\n",
    "As the second step, we will preprocess the data to prepare it for modeling."
   ],
   "id": "15ef951f7e7a37cf"
  },
  {
   "metadata": {
    "ExecuteTime": {
     "end_time": "2025-06-06T16:23:27.398614Z",
     "start_time": "2025-06-06T16:23:27.394340Z"
    }
   },
   "cell_type": "code",
   "source": [
    "import pandas as pd\n",
    "import numpy as np\n",
    "from pandas.api.types import CategoricalDtype\n",
    "import matplotlib.pyplot as plt\n",
    "from sklearn.model_selection import train_test_split\n",
    "from sklearn.preprocessing import StandardScaler\n",
    "import os"
   ],
   "id": "302386057cd0925d",
   "outputs": [],
   "execution_count": 798
  },
  {
   "metadata": {},
   "cell_type": "markdown",
   "source": [
    "## Loading the Data\n",
    "As seen in the previous notebook, we will load the data from a CSV file. We will also specify the data types for some columns to avoid warnings."
   ],
   "id": "49c8e2e3b2f4a5ec"
  },
  {
   "metadata": {
    "ExecuteTime": {
     "end_time": "2025-06-06T16:23:29.830307Z",
     "start_time": "2025-06-06T16:23:27.438425Z"
    }
   },
   "cell_type": "code",
   "source": [
    "df = pd.read_csv(\n",
    "    'data/LoanData.csv',\n",
    "    dtype={\n",
    "\n",
    "        'CreditScoreEsEquifaxRisk': 'category',\n",
    "        'CreditScoreFiAsiakasTietoRiskGrade': 'category',\n",
    "        'ActiveLateLastPaymentCategory': 'category',\n",
    "        'LoanCancelled': 'boolean',\n",
    "        'ContractEndDate': 'string',\n",
    "        'DefaultDate': 'string',\n",
    "    },\n",
    ")\n",
    "df['ContractEndDate'] = pd.to_datetime(df['ContractEndDate'], errors='coerce')\n",
    "df['DefaultDate'] = pd.to_datetime(df['DefaultDate'],     errors='coerce')\n",
    "\n",
    "df.head()"
   ],
   "id": "initial_id",
   "outputs": [
    {
     "data": {
      "text/plain": [
       "                                 LoanId  LoanNumber          ListedOnUTC  \\\n",
       "0  D8EBF360-104C-420F-BEC9-000924E6EFC7     3015853  2022-09-09 12:27:01   \n",
       "1  C1A98DDA-5E20-429C-BBFF-0009A05354E0     3743447  2023-05-19 11:04:33   \n",
       "2  9B0B252E-45B9-4172-8E2D-0014A8F18117     4335414  2024-02-03 14:43:32   \n",
       "3  66AE108B-532B-4BB3-BAB7-0019A46412C1      483449  2016-03-23 16:07:19   \n",
       "4  C7EA512A-465D-4043-A9F2-001B14C3C14E     4043783  2023-09-26 12:14:12   \n",
       "\n",
       "      BiddingStartedOn  BidsPortfolioManager  BidsApi  BidsManual  \\\n",
       "0  2022-09-09 15:27:01                  11.0      0.0        88.0   \n",
       "1  2023-05-19 14:04:33                   0.0      0.0         0.0   \n",
       "2  2024-02-03 16:43:32                   0.0      0.0         0.0   \n",
       "3  2016-03-23 16:07:19                 970.0   1150.0         5.0   \n",
       "4  2023-09-26 15:14:12                   0.0      0.0         0.0   \n",
       "\n",
       "   NewCreditCustomer LoanApplicationStartedDate    LoanDate  ...  \\\n",
       "0              False        2022-09-09 15:15:03  2022-09-09  ...   \n",
       "1              False        2023-05-19 14:03:54  2023-05-19  ...   \n",
       "2              False        2024-02-03 16:41:51  2024-02-03  ...   \n",
       "3              False        2016-03-17 12:39:22  2016-03-23  ...   \n",
       "4              False        2023-09-26 15:13:07  2023-09-26  ...   \n",
       "\n",
       "  GracePeriodEnd NextPaymentDate NextPaymentNr NrOfScheduledPayments  \\\n",
       "0            NaN      2024-05-27           6.0                  23.0   \n",
       "1            NaN      2024-05-27          11.0                 120.0   \n",
       "2            NaN      2024-07-08           2.0                  12.0   \n",
       "3     2020-01-27             NaN           NaN                   NaN   \n",
       "4            NaN      2024-06-04           9.0                 108.0   \n",
       "\n",
       "   ReScheduledOn  PrincipalDebtServicingCost  \\\n",
       "0     2023-11-30                         NaN   \n",
       "1     2023-07-20                         NaN   \n",
       "2     2024-05-12                         NaN   \n",
       "3            NaN                         0.0   \n",
       "4            NaN                         NaN   \n",
       "\n",
       "   InterestAndPenaltyDebtServicingCost  ActiveLateLastPaymentCategory  \\\n",
       "0                                  NaN                            NaN   \n",
       "1                                  NaN                         91-120   \n",
       "2                                  NaN                            NaN   \n",
       "3                                82.76                           180+   \n",
       "4                                  NaN                          16-30   \n",
       "\n",
       "   LoanCancelled  PreviousEarlyRepaymentsBeforeLoan  \n",
       "0           <NA>                                NaN  \n",
       "1           <NA>                                NaN  \n",
       "2           <NA>                                NaN  \n",
       "3           <NA>                                0.0  \n",
       "4           <NA>                                NaN  \n",
       "\n",
       "[5 rows x 97 columns]"
      ],
      "text/html": [
       "<div>\n",
       "<style scoped>\n",
       "    .dataframe tbody tr th:only-of-type {\n",
       "        vertical-align: middle;\n",
       "    }\n",
       "\n",
       "    .dataframe tbody tr th {\n",
       "        vertical-align: top;\n",
       "    }\n",
       "\n",
       "    .dataframe thead th {\n",
       "        text-align: right;\n",
       "    }\n",
       "</style>\n",
       "<table border=\"1\" class=\"dataframe\">\n",
       "  <thead>\n",
       "    <tr style=\"text-align: right;\">\n",
       "      <th></th>\n",
       "      <th>LoanId</th>\n",
       "      <th>LoanNumber</th>\n",
       "      <th>ListedOnUTC</th>\n",
       "      <th>BiddingStartedOn</th>\n",
       "      <th>BidsPortfolioManager</th>\n",
       "      <th>BidsApi</th>\n",
       "      <th>BidsManual</th>\n",
       "      <th>NewCreditCustomer</th>\n",
       "      <th>LoanApplicationStartedDate</th>\n",
       "      <th>LoanDate</th>\n",
       "      <th>...</th>\n",
       "      <th>GracePeriodEnd</th>\n",
       "      <th>NextPaymentDate</th>\n",
       "      <th>NextPaymentNr</th>\n",
       "      <th>NrOfScheduledPayments</th>\n",
       "      <th>ReScheduledOn</th>\n",
       "      <th>PrincipalDebtServicingCost</th>\n",
       "      <th>InterestAndPenaltyDebtServicingCost</th>\n",
       "      <th>ActiveLateLastPaymentCategory</th>\n",
       "      <th>LoanCancelled</th>\n",
       "      <th>PreviousEarlyRepaymentsBeforeLoan</th>\n",
       "    </tr>\n",
       "  </thead>\n",
       "  <tbody>\n",
       "    <tr>\n",
       "      <th>0</th>\n",
       "      <td>D8EBF360-104C-420F-BEC9-000924E6EFC7</td>\n",
       "      <td>3015853</td>\n",
       "      <td>2022-09-09 12:27:01</td>\n",
       "      <td>2022-09-09 15:27:01</td>\n",
       "      <td>11.0</td>\n",
       "      <td>0.0</td>\n",
       "      <td>88.0</td>\n",
       "      <td>False</td>\n",
       "      <td>2022-09-09 15:15:03</td>\n",
       "      <td>2022-09-09</td>\n",
       "      <td>...</td>\n",
       "      <td>NaN</td>\n",
       "      <td>2024-05-27</td>\n",
       "      <td>6.0</td>\n",
       "      <td>23.0</td>\n",
       "      <td>2023-11-30</td>\n",
       "      <td>NaN</td>\n",
       "      <td>NaN</td>\n",
       "      <td>NaN</td>\n",
       "      <td>&lt;NA&gt;</td>\n",
       "      <td>NaN</td>\n",
       "    </tr>\n",
       "    <tr>\n",
       "      <th>1</th>\n",
       "      <td>C1A98DDA-5E20-429C-BBFF-0009A05354E0</td>\n",
       "      <td>3743447</td>\n",
       "      <td>2023-05-19 11:04:33</td>\n",
       "      <td>2023-05-19 14:04:33</td>\n",
       "      <td>0.0</td>\n",
       "      <td>0.0</td>\n",
       "      <td>0.0</td>\n",
       "      <td>False</td>\n",
       "      <td>2023-05-19 14:03:54</td>\n",
       "      <td>2023-05-19</td>\n",
       "      <td>...</td>\n",
       "      <td>NaN</td>\n",
       "      <td>2024-05-27</td>\n",
       "      <td>11.0</td>\n",
       "      <td>120.0</td>\n",
       "      <td>2023-07-20</td>\n",
       "      <td>NaN</td>\n",
       "      <td>NaN</td>\n",
       "      <td>91-120</td>\n",
       "      <td>&lt;NA&gt;</td>\n",
       "      <td>NaN</td>\n",
       "    </tr>\n",
       "    <tr>\n",
       "      <th>2</th>\n",
       "      <td>9B0B252E-45B9-4172-8E2D-0014A8F18117</td>\n",
       "      <td>4335414</td>\n",
       "      <td>2024-02-03 14:43:32</td>\n",
       "      <td>2024-02-03 16:43:32</td>\n",
       "      <td>0.0</td>\n",
       "      <td>0.0</td>\n",
       "      <td>0.0</td>\n",
       "      <td>False</td>\n",
       "      <td>2024-02-03 16:41:51</td>\n",
       "      <td>2024-02-03</td>\n",
       "      <td>...</td>\n",
       "      <td>NaN</td>\n",
       "      <td>2024-07-08</td>\n",
       "      <td>2.0</td>\n",
       "      <td>12.0</td>\n",
       "      <td>2024-05-12</td>\n",
       "      <td>NaN</td>\n",
       "      <td>NaN</td>\n",
       "      <td>NaN</td>\n",
       "      <td>&lt;NA&gt;</td>\n",
       "      <td>NaN</td>\n",
       "    </tr>\n",
       "    <tr>\n",
       "      <th>3</th>\n",
       "      <td>66AE108B-532B-4BB3-BAB7-0019A46412C1</td>\n",
       "      <td>483449</td>\n",
       "      <td>2016-03-23 16:07:19</td>\n",
       "      <td>2016-03-23 16:07:19</td>\n",
       "      <td>970.0</td>\n",
       "      <td>1150.0</td>\n",
       "      <td>5.0</td>\n",
       "      <td>False</td>\n",
       "      <td>2016-03-17 12:39:22</td>\n",
       "      <td>2016-03-23</td>\n",
       "      <td>...</td>\n",
       "      <td>2020-01-27</td>\n",
       "      <td>NaN</td>\n",
       "      <td>NaN</td>\n",
       "      <td>NaN</td>\n",
       "      <td>NaN</td>\n",
       "      <td>0.0</td>\n",
       "      <td>82.76</td>\n",
       "      <td>180+</td>\n",
       "      <td>&lt;NA&gt;</td>\n",
       "      <td>0.0</td>\n",
       "    </tr>\n",
       "    <tr>\n",
       "      <th>4</th>\n",
       "      <td>C7EA512A-465D-4043-A9F2-001B14C3C14E</td>\n",
       "      <td>4043783</td>\n",
       "      <td>2023-09-26 12:14:12</td>\n",
       "      <td>2023-09-26 15:14:12</td>\n",
       "      <td>0.0</td>\n",
       "      <td>0.0</td>\n",
       "      <td>0.0</td>\n",
       "      <td>False</td>\n",
       "      <td>2023-09-26 15:13:07</td>\n",
       "      <td>2023-09-26</td>\n",
       "      <td>...</td>\n",
       "      <td>NaN</td>\n",
       "      <td>2024-06-04</td>\n",
       "      <td>9.0</td>\n",
       "      <td>108.0</td>\n",
       "      <td>NaN</td>\n",
       "      <td>NaN</td>\n",
       "      <td>NaN</td>\n",
       "      <td>16-30</td>\n",
       "      <td>&lt;NA&gt;</td>\n",
       "      <td>NaN</td>\n",
       "    </tr>\n",
       "  </tbody>\n",
       "</table>\n",
       "<p>5 rows × 97 columns</p>\n",
       "</div>"
      ]
     },
     "execution_count": 799,
     "metadata": {},
     "output_type": "execute_result"
    }
   ],
   "execution_count": 799
  },
  {
   "metadata": {},
   "cell_type": "markdown",
   "source": [
    "## Creating target variable\n",
    "We create a categorical \"defaulted\" column, we base this on whether the loan was:\n",
    "\n",
    "1. Repaid: The borrower completed all scheduled payments.\n",
    "2. Defaulted: The borrower missed sufficient payments and entered default.\n",
    "3. Cancelled: The loan was cancelled before disbursement or early in its lifecycle.\n",
    "\n",
    "We can get this information from the `DefaultDate`, `LoanCancelled`, and `ContractEndDate` columns.\n",
    "\n",
    "To simplify, we will only consider the 'Defaulted' column such that it shows whether the loan defaulted (1) or not (0)."
   ],
   "id": "950567b6d7ebf31b"
  },
  {
   "metadata": {
    "ExecuteTime": {
     "end_time": "2025-06-06T16:23:29.884800Z",
     "start_time": "2025-06-06T16:23:29.878680Z"
    }
   },
   "cell_type": "code",
   "source": [
    "df['Defaulted'] = np.where(df['DefaultDate'].notnull(), 1, 0)\n",
    "df['Defaulted'].value_counts(dropna=False)"
   ],
   "id": "577c73852c9c2140",
   "outputs": [
    {
     "data": {
      "text/plain": [
       "Defaulted\n",
       "0    275933\n",
       "1    124237\n",
       "Name: count, dtype: int64"
      ]
     },
     "execution_count": 800,
     "metadata": {},
     "output_type": "execute_result"
    }
   ],
   "execution_count": 800
  },
  {
   "metadata": {},
   "cell_type": "markdown",
   "source": [
    "## Dropping Unnecessary Columns\n",
    "With the target variable created, we can drop some columns that are not needed for modeling. Through collecting expert opinions through surveys, we have identified attributes that may be more relevant for modeling and those that are not."
   ],
   "id": "e2a4882112a94e79"
  },
  {
   "metadata": {},
   "cell_type": "markdown",
   "source": "### Making a manual selection of features",
   "id": "4786260f75f131a6"
  },
  {
   "metadata": {
    "ExecuteTime": {
     "end_time": "2025-06-06T16:23:29.999735Z",
     "start_time": "2025-06-06T16:23:29.953638Z"
    }
   },
   "cell_type": "code",
   "source": [
    "# TODO: Consider which features were ranked highly in the survey AND also do not leak information\n",
    "\n",
    "# These features describe the applicant's profile at the time of application.\n",
    "borrower_details = [\n",
    "    'Age',\n",
    "    'Gender',\n",
    "    'Education',\n",
    "    'HomeOwnershipType',\n",
    "    'EmploymentDurationCurrentEmployer',\n",
    "    'VerificationType',\n",
    "]\n",
    "\n",
    "# These features describe the borrower's past performance on the platform.\n",
    "borrower_history_details = [\n",
    "    'NewCreditCustomer',\n",
    "    'NoOfPreviousLoansBeforeLoan',\n",
    "    'AmountOfPreviousLoansBeforeLoan',\n",
    "    'PreviousRepaymentsBeforeLoan',\n",
    "    'PreviousEarlyRepaymentsBeforeLoan',\n",
    "    'PreviousEarlyRepaymentsCountBeforeLoan',\n",
    "]\n",
    "\n",
    "# These features describe the loan itself and the applicant's financial situation.\n",
    "loan_and_financial_details = [\n",
    "    'Amount',\n",
    "    'AppliedAmount',\n",
    "    'Interest',\n",
    "    'LoanDuration',\n",
    "    'MonthlyPayment',\n",
    "    'IncomeTotal',\n",
    "    'LiabilitiesTotal',\n",
    "    'ExistingLiabilities',\n",
    "]\n",
    "\n",
    "\n",
    "# Bondora's own risk metrics (could be used as extra features, or leave out to make it non-dependent on Bondora's risk assessment).\n",
    "bondora_assessment_details = [\n",
    "    'Rating',\n",
    "    'ExpectedLoss',\n",
    "    'LossGivenDefault',\n",
    "    'ProbabilityOfDefault',\n",
    "]\n",
    "\n",
    "# Combine all the features into a single list\n",
    "selected_features = (\n",
    "    borrower_details +\n",
    "    borrower_history_details +\n",
    "    loan_and_financial_details\n",
    "    # + bondora_assessment_details\n",
    ")\n",
    "\n",
    "# Filter the DataFrame to keep only the selected features and the target variable (+ 'LoanDate' for splitting later)\n",
    "df = df[selected_features + ['Defaulted'] + ['LoanDate']].copy()"
   ],
   "id": "6fed27f66cff53a6",
   "outputs": [],
   "execution_count": 801
  },
  {
   "metadata": {},
   "cell_type": "markdown",
   "source": [
    "#### Dropping Obsolete Features\n",
    "Bondora mentions in their API that some features are obsolete and will not be updated anymore. We will drop these features from the dataset, in case some are still present in the df. We will use the `data/public_dataset_item.csv` file to identify these obsolete features (obtained using the `export_bondora_specification.js` script in the `scripts` folder)."
   ],
   "id": "40d53380f79c3647"
  },
  {
   "metadata": {
    "ExecuteTime": {
     "end_time": "2025-06-06T16:23:30.162736Z",
     "start_time": "2025-06-06T16:23:30.145753Z"
    }
   },
   "cell_type": "code",
   "source": [
    "features_metadata_df = pd.read_csv('data/public_dataset_item.csv')\n",
    "is_obsolete = features_metadata_df['additionalInfo'].str.startswith('Obsolete', na=False)\n",
    "obsolete_features = features_metadata_df.loc[is_obsolete, 'name'].tolist()\n",
    "\n",
    "\n",
    "dropped_features = [feat for feat in obsolete_features if feat in df.columns]\n",
    "\n",
    "if dropped_features:\n",
    "    df.drop(columns=dropped_features, inplace=True)\n",
    "\n",
    "if dropped_features:\n",
    "    print(\"Dropped obsolete features:\", dropped_features)\n",
    "else:\n",
    "    print(\"No obsolete features to drop based on the provided metadata.\")"
   ],
   "id": "7a90e4e37fcbf6a8",
   "outputs": [
    {
     "name": "stdout",
     "output_type": "stream",
     "text": [
      "Dropped obsolete features: ['HomeOwnershipType', 'IncomeTotal']\n"
     ]
    }
   ],
   "execution_count": 802
  },
  {
   "metadata": {},
   "cell_type": "markdown",
   "source": [
    "## Cleaning Types\n",
    "There are still some columns that are of type `object` that should be converted to more appropriate types."
   ],
   "id": "5cb8d3a27006d66d"
  },
  {
   "metadata": {
    "ExecuteTime": {
     "end_time": "2025-06-06T16:23:30.200924Z",
     "start_time": "2025-06-06T16:23:30.196028Z"
    }
   },
   "cell_type": "code",
   "source": [
    "# Check which columns are still present as object types\n",
    "df.select_dtypes(include=['object']).columns.tolist()"
   ],
   "id": "cbd1b50c818eb039",
   "outputs": [
    {
     "data": {
      "text/plain": [
       "['EmploymentDurationCurrentEmployer', 'LoanDate']"
      ]
     },
     "execution_count": 803,
     "metadata": {},
     "output_type": "execute_result"
    }
   ],
   "execution_count": 803
  },
  {
   "metadata": {
    "ExecuteTime": {
     "end_time": "2025-06-06T16:23:30.260650Z",
     "start_time": "2025-06-06T16:23:30.247190Z"
    }
   },
   "cell_type": "code",
   "source": [
    "# EmploymentDurationCurrentEmployer\n",
    "emp_order = [\n",
    "    'TrialPeriod',\n",
    "    'UpTo1Year',\n",
    "    'UpTo2Years',\n",
    "    'UpTo3Years',\n",
    "    'UpTo4Years',\n",
    "    'UpTo5Years',\n",
    "    'MoreThan5Years',\n",
    "    'Retiree',\n",
    "    'Other'\n",
    "]\n",
    "df['EmploymentDurationCurrentEmployer'] = df['EmploymentDurationCurrentEmployer'].astype(\n",
    "    CategoricalDtype(categories=emp_order, ordered=False)\n",
    ")"
   ],
   "id": "3b3efb7f4a5d76e3",
   "outputs": [],
   "execution_count": 804
  },
  {
   "metadata": {
    "ExecuteTime": {
     "end_time": "2025-06-06T16:23:30.315444Z",
     "start_time": "2025-06-06T16:23:30.294606Z"
    }
   },
   "cell_type": "code",
   "source": [
    "# LoanDate\n",
    "df['LoanDate'] = pd.to_datetime(df['LoanDate'], format='ISO8601')"
   ],
   "id": "da43056d6b695750",
   "outputs": [],
   "execution_count": 805
  },
  {
   "metadata": {
    "ExecuteTime": {
     "end_time": "2025-06-06T16:23:30.354829Z",
     "start_time": "2025-06-06T16:23:30.352929Z"
    }
   },
   "cell_type": "code",
   "source": [
    "# Sanity check: Check for remaining object columns\n",
    "df.select_dtypes(include=['object']).columns.tolist()"
   ],
   "id": "4587311e58e0dc1a",
   "outputs": [
    {
     "data": {
      "text/plain": [
       "[]"
      ]
     },
     "execution_count": 806,
     "metadata": {},
     "output_type": "execute_result"
    }
   ],
   "execution_count": 806
  },
  {
   "metadata": {},
   "cell_type": "markdown",
   "source": [
    "## Handling Missing Values\n",
    "As seen during data exploration, there are some missing values in the dataset. However, dropping this data, or simply imputing the missing values is not a good idea, as the missing data holds semantic meaning. Thus, we will examine all columns with missing values and decide how to handle them."
   ],
   "id": "3f92986fbe1d6e83"
  },
  {
   "metadata": {
    "ExecuteTime": {
     "end_time": "2025-06-06T16:23:30.402870Z",
     "start_time": "2025-06-06T16:23:30.396171Z"
    }
   },
   "cell_type": "code",
   "source": [
    "# Summarize missing values per column\n",
    "def summarize_missing_values(df):\n",
    "    \"\"\"Summarizes missing values in the DataFrame.\"\"\"\n",
    "    missing_summary = (\n",
    "        df.isnull()\n",
    "          .sum()\n",
    "          .reset_index()\n",
    "          .rename(columns={'index': 'Feature', 0: 'MissingCount'})\n",
    "    )\n",
    "    missing_summary['MissingPercent'] = 100 * missing_summary['MissingCount'] / len(df)\n",
    "    return missing_summary[missing_summary['MissingCount'] > 0].sort_values(by='MissingPercent', ascending=False).reset_index(drop=True)\n",
    "\n",
    "summarize_missing_values(df)"
   ],
   "id": "b640540fcd09ee3",
   "outputs": [
    {
     "data": {
      "text/plain": [
       "                                  Feature  MissingCount  MissingPercent\n",
       "0       PreviousEarlyRepaymentsBeforeLoan        337407       84.315916\n",
       "1            PreviousRepaymentsBeforeLoan        152193       38.032086\n",
       "2       EmploymentDurationCurrentEmployer         13894        3.472024\n",
       "3                          MonthlyPayment          6690        1.671789\n",
       "4  PreviousEarlyRepaymentsCountBeforeLoan            83        0.020741\n",
       "5             NoOfPreviousLoansBeforeLoan            82        0.020491\n",
       "6         AmountOfPreviousLoansBeforeLoan            82        0.020491\n",
       "7                               Education            50        0.012495\n",
       "8                        VerificationType            50        0.012495\n",
       "9                                  Gender            45        0.011245"
      ],
      "text/html": [
       "<div>\n",
       "<style scoped>\n",
       "    .dataframe tbody tr th:only-of-type {\n",
       "        vertical-align: middle;\n",
       "    }\n",
       "\n",
       "    .dataframe tbody tr th {\n",
       "        vertical-align: top;\n",
       "    }\n",
       "\n",
       "    .dataframe thead th {\n",
       "        text-align: right;\n",
       "    }\n",
       "</style>\n",
       "<table border=\"1\" class=\"dataframe\">\n",
       "  <thead>\n",
       "    <tr style=\"text-align: right;\">\n",
       "      <th></th>\n",
       "      <th>Feature</th>\n",
       "      <th>MissingCount</th>\n",
       "      <th>MissingPercent</th>\n",
       "    </tr>\n",
       "  </thead>\n",
       "  <tbody>\n",
       "    <tr>\n",
       "      <th>0</th>\n",
       "      <td>PreviousEarlyRepaymentsBeforeLoan</td>\n",
       "      <td>337407</td>\n",
       "      <td>84.315916</td>\n",
       "    </tr>\n",
       "    <tr>\n",
       "      <th>1</th>\n",
       "      <td>PreviousRepaymentsBeforeLoan</td>\n",
       "      <td>152193</td>\n",
       "      <td>38.032086</td>\n",
       "    </tr>\n",
       "    <tr>\n",
       "      <th>2</th>\n",
       "      <td>EmploymentDurationCurrentEmployer</td>\n",
       "      <td>13894</td>\n",
       "      <td>3.472024</td>\n",
       "    </tr>\n",
       "    <tr>\n",
       "      <th>3</th>\n",
       "      <td>MonthlyPayment</td>\n",
       "      <td>6690</td>\n",
       "      <td>1.671789</td>\n",
       "    </tr>\n",
       "    <tr>\n",
       "      <th>4</th>\n",
       "      <td>PreviousEarlyRepaymentsCountBeforeLoan</td>\n",
       "      <td>83</td>\n",
       "      <td>0.020741</td>\n",
       "    </tr>\n",
       "    <tr>\n",
       "      <th>5</th>\n",
       "      <td>NoOfPreviousLoansBeforeLoan</td>\n",
       "      <td>82</td>\n",
       "      <td>0.020491</td>\n",
       "    </tr>\n",
       "    <tr>\n",
       "      <th>6</th>\n",
       "      <td>AmountOfPreviousLoansBeforeLoan</td>\n",
       "      <td>82</td>\n",
       "      <td>0.020491</td>\n",
       "    </tr>\n",
       "    <tr>\n",
       "      <th>7</th>\n",
       "      <td>Education</td>\n",
       "      <td>50</td>\n",
       "      <td>0.012495</td>\n",
       "    </tr>\n",
       "    <tr>\n",
       "      <th>8</th>\n",
       "      <td>VerificationType</td>\n",
       "      <td>50</td>\n",
       "      <td>0.012495</td>\n",
       "    </tr>\n",
       "    <tr>\n",
       "      <th>9</th>\n",
       "      <td>Gender</td>\n",
       "      <td>45</td>\n",
       "      <td>0.011245</td>\n",
       "    </tr>\n",
       "  </tbody>\n",
       "</table>\n",
       "</div>"
      ]
     },
     "execution_count": 807,
     "metadata": {},
     "output_type": "execute_result"
    }
   ],
   "execution_count": 807
  },
  {
   "metadata": {
    "ExecuteTime": {
     "end_time": "2025-06-06T16:23:30.457195Z",
     "start_time": "2025-06-06T16:23:30.453052Z"
    }
   },
   "cell_type": "code",
   "source": [
    "# PreviousEarlyRepaymentsBeforeLoan\n",
    "\n",
    "# print(df['PreviousEarlyRepaymentsBeforeLoan'].value_counts(dropna=False))\n",
    "\n",
    "# We will assume that NaN means that the borrower had no previous early repayments before the loan, therefore, we will fill NaN with 0.\n",
    "df['PreviousEarlyRepaymentsBeforeLoan'] = df['PreviousEarlyRepaymentsBeforeLoan'].fillna(0).astype(int)"
   ],
   "id": "3ab6029652fe7749",
   "outputs": [],
   "execution_count": 808
  },
  {
   "metadata": {
    "ExecuteTime": {
     "end_time": "2025-06-06T16:23:30.520473Z",
     "start_time": "2025-06-06T16:23:30.516701Z"
    }
   },
   "cell_type": "code",
   "source": [
    "# PreviousRepaymentsBeforeLoan\n",
    "\n",
    "# print(df['PreviousRepaymentsBeforeLoan'].value_counts(dropna=False))\n",
    "df['PreviousRepaymentsBeforeLoan'] = df['PreviousRepaymentsBeforeLoan'].fillna(0).astype(int)"
   ],
   "id": "c669add4a8844767",
   "outputs": [],
   "execution_count": 809
  },
  {
   "metadata": {
    "ExecuteTime": {
     "end_time": "2025-06-06T16:23:30.583535Z",
     "start_time": "2025-06-06T16:23:30.578636Z"
    }
   },
   "cell_type": "code",
   "source": [
    "# EmploymentDurationCurrentEmployer\n",
    "\n",
    "print(df['EmploymentDurationCurrentEmployer'].value_counts(dropna=False))\n",
    "\n",
    "# We will assume that NaN means that the employment duration is unknown, likely because the borrower did not provide this information. Therefore, we will fill NaN with 'Unknown'.\n",
    "col_name = 'EmploymentDurationCurrentEmployer'\n",
    "df[col_name] = df[col_name].cat.add_categories(['Unknown'])\n",
    "df[col_name] = df[col_name].fillna('Unknown')\n",
    "all_categories = df[col_name].unique().tolist()\n",
    "df[col_name] = df[col_name].astype(pd.CategoricalDtype(categories=all_categories, ordered=False))\n"
   ],
   "id": "b6ee10bd89b89dd7",
   "outputs": [
    {
     "name": "stdout",
     "output_type": "stream",
     "text": [
      "EmploymentDurationCurrentEmployer\n",
      "MoreThan5Years    144562\n",
      "UpTo5Years        106748\n",
      "UpTo1Year          69949\n",
      "Retiree            24712\n",
      "Other              23912\n",
      "NaN                13894\n",
      "UpTo2Years          6504\n",
      "UpTo3Years          5445\n",
      "UpTo4Years          3691\n",
      "TrialPeriod          753\n",
      "Name: count, dtype: int64\n"
     ]
    }
   ],
   "execution_count": 810
  },
  {
   "metadata": {
    "ExecuteTime": {
     "end_time": "2025-06-06T16:23:30.642251Z",
     "start_time": "2025-06-06T16:23:30.631327Z"
    }
   },
   "cell_type": "code",
   "source": [
    "# MonthlyPayment\n",
    "print(df['MonthlyPayment'].value_counts(dropna=False))\n",
    "\n",
    "# Missing for unknown reason, we will impute with the median value (not affected by outliers).\n",
    "median_payment = df['MonthlyPayment'].median()\n",
    "#NOTE: This is being done before the data is split, so the median is calculated on the entire dataset. Not preferable due to potential data leakage, but we will assume that the median is a good estimate for the missing values.\n",
    "df['MonthlyPayment'] = df['MonthlyPayment'].fillna(median_payment)"
   ],
   "id": "8bdd3ba9ea839413",
   "outputs": [
    {
     "name": "stdout",
     "output_type": "stream",
     "text": [
      "MonthlyPayment\n",
      "108.17    12239\n",
      "108.27    12008\n",
      "NaN        6690\n",
      "103.75     6683\n",
      "13.51      4707\n",
      "          ...  \n",
      "457.89        1\n",
      "280.60        1\n",
      "116.56        1\n",
      "266.22        1\n",
      "519.00        1\n",
      "Name: count, Length: 30794, dtype: int64\n"
     ]
    }
   ],
   "execution_count": 811
  },
  {
   "metadata": {
    "ExecuteTime": {
     "end_time": "2025-06-06T16:23:30.687323Z",
     "start_time": "2025-06-06T16:23:30.684437Z"
    }
   },
   "cell_type": "code",
   "source": [
    "# PreviousEarlyRepaymentsCountBeforeLoan\n",
    "\n",
    "# print(df['PreviousEarlyRepaymentsCountBeforeLoan'].value_counts(dropna=False))\n",
    "df['PreviousEarlyRepaymentsCountBeforeLoan'] = df['PreviousEarlyRepaymentsCountBeforeLoan'].fillna(0).astype(int)"
   ],
   "id": "27220d85df59c245",
   "outputs": [],
   "execution_count": 812
  },
  {
   "metadata": {
    "ExecuteTime": {
     "end_time": "2025-06-06T16:23:30.729389Z",
     "start_time": "2025-06-06T16:23:30.726698Z"
    }
   },
   "cell_type": "code",
   "source": [
    "# NoOfPreviousLoansBeforeLoan\n",
    "\n",
    "# print(df['NoOfPreviousLoansBeforeLoan'].value_counts(dropna=False))\n",
    "df['NoOfPreviousLoansBeforeLoan'] = df['NoOfPreviousLoansBeforeLoan'].fillna(0).astype(int)"
   ],
   "id": "53eccd49abaa2ba4",
   "outputs": [],
   "execution_count": 813
  },
  {
   "metadata": {
    "ExecuteTime": {
     "end_time": "2025-06-06T16:23:30.774736Z",
     "start_time": "2025-06-06T16:23:30.771371Z"
    }
   },
   "cell_type": "code",
   "source": [
    "# AmountOfPreviousLoansBeforeLoan\n",
    "\n",
    "# print(df['AmountOfPreviousLoansBeforeLoan'].value_counts(dropna=False))\n",
    "df['AmountOfPreviousLoansBeforeLoan'] = df['AmountOfPreviousLoansBeforeLoan'].fillna(0).astype(float)"
   ],
   "id": "2e20ef3caf4e041c",
   "outputs": [],
   "execution_count": 814
  },
  {
   "metadata": {
    "ExecuteTime": {
     "end_time": "2025-06-06T16:23:30.829770Z",
     "start_time": "2025-06-06T16:23:30.814876Z"
    }
   },
   "cell_type": "code",
   "source": [
    "# Education\n",
    "\n",
    "# print(df['Education'].value_counts(dropna=False))\n",
    "\n",
    "# We will leave out the few rows with NaN values (50 rows, where VerificationType and Gender also were NaN).\n",
    "df = df.dropna(subset=['Education'])"
   ],
   "id": "66fde2b0838c84b5",
   "outputs": [],
   "execution_count": 815
  },
  {
   "metadata": {
    "ExecuteTime": {
     "end_time": "2025-06-06T16:23:30.875733Z",
     "start_time": "2025-06-06T16:23:30.869703Z"
    }
   },
   "cell_type": "code",
   "source": [
    "# Sanity check.\n",
    "summarize_missing_values(df)"
   ],
   "id": "955ac995894be037",
   "outputs": [
    {
     "data": {
      "text/plain": [
       "Empty DataFrame\n",
       "Columns: [Feature, MissingCount, MissingPercent]\n",
       "Index: []"
      ],
      "text/html": [
       "<div>\n",
       "<style scoped>\n",
       "    .dataframe tbody tr th:only-of-type {\n",
       "        vertical-align: middle;\n",
       "    }\n",
       "\n",
       "    .dataframe tbody tr th {\n",
       "        vertical-align: top;\n",
       "    }\n",
       "\n",
       "    .dataframe thead th {\n",
       "        text-align: right;\n",
       "    }\n",
       "</style>\n",
       "<table border=\"1\" class=\"dataframe\">\n",
       "  <thead>\n",
       "    <tr style=\"text-align: right;\">\n",
       "      <th></th>\n",
       "      <th>Feature</th>\n",
       "      <th>MissingCount</th>\n",
       "      <th>MissingPercent</th>\n",
       "    </tr>\n",
       "  </thead>\n",
       "  <tbody>\n",
       "  </tbody>\n",
       "</table>\n",
       "</div>"
      ]
     },
     "execution_count": 816,
     "metadata": {},
     "output_type": "execute_result"
    }
   ],
   "execution_count": 816
  },
  {
   "metadata": {},
   "cell_type": "markdown",
   "source": "We have handled all missing values in a way that preserves the meaning of the data.",
   "id": "4964396cfd28f71c"
  },
  {
   "metadata": {},
   "cell_type": "markdown",
   "source": [
    "## One-Hot Encoding\n",
    "With all data types cleaned and missing values handled, we can now proceed to one-hot encode the categorical features."
   ],
   "id": "46799ace8d7185c7"
  },
  {
   "metadata": {
    "ExecuteTime": {
     "end_time": "2025-06-06T16:23:30.939627Z",
     "start_time": "2025-06-06T16:23:30.932082Z"
    }
   },
   "cell_type": "code",
   "source": [
    "# Check the DataFrame info\n",
    "df.info()"
   ],
   "id": "9366e88f208d07a5",
   "outputs": [
    {
     "name": "stdout",
     "output_type": "stream",
     "text": [
      "<class 'pandas.core.frame.DataFrame'>\n",
      "Index: 400120 entries, 0 to 400169\n",
      "Data columns (total 20 columns):\n",
      " #   Column                                  Non-Null Count   Dtype         \n",
      "---  ------                                  --------------   -----         \n",
      " 0   Age                                     400120 non-null  int64         \n",
      " 1   Gender                                  400120 non-null  float64       \n",
      " 2   Education                               400120 non-null  float64       \n",
      " 3   EmploymentDurationCurrentEmployer       400120 non-null  category      \n",
      " 4   VerificationType                        400120 non-null  float64       \n",
      " 5   NewCreditCustomer                       400120 non-null  bool          \n",
      " 6   NoOfPreviousLoansBeforeLoan             400120 non-null  int64         \n",
      " 7   AmountOfPreviousLoansBeforeLoan         400120 non-null  float64       \n",
      " 8   PreviousRepaymentsBeforeLoan            400120 non-null  int64         \n",
      " 9   PreviousEarlyRepaymentsBeforeLoan       400120 non-null  int64         \n",
      " 10  PreviousEarlyRepaymentsCountBeforeLoan  400120 non-null  int64         \n",
      " 11  Amount                                  400120 non-null  float64       \n",
      " 12  AppliedAmount                           400120 non-null  float64       \n",
      " 13  Interest                                400120 non-null  float64       \n",
      " 14  LoanDuration                            400120 non-null  int64         \n",
      " 15  MonthlyPayment                          400120 non-null  float64       \n",
      " 16  LiabilitiesTotal                        400120 non-null  float64       \n",
      " 17  ExistingLiabilities                     400120 non-null  int64         \n",
      " 18  Defaulted                               400120 non-null  int64         \n",
      " 19  LoanDate                                400120 non-null  datetime64[ns]\n",
      "dtypes: bool(1), category(1), datetime64[ns](1), float64(9), int64(8)\n",
      "memory usage: 58.8 MB\n"
     ]
    }
   ],
   "execution_count": 817
  },
  {
   "metadata": {},
   "cell_type": "markdown",
   "source": [
    "There are a few features that are worth looking at more closely:\n",
    "- `Gender`: float64, we got 3 unique values, assuming that one is male, the other is female, and the third is other, or prefers not to disclose. These are codes for different groups, so we will one-hot encode this column.\n",
    "- `Education`: float64, similarly to  `Gender`,these are codes for different education levels, so we will one-hot encode this column.\n",
    "- `EmploymentDurationCurrentEmployer` category, so the dtype already shows that it is categorical, but we will one-hot encode it to create binary features for each category.\n",
    "- `VerificationType`: float64, these are codes for different verification types, so we will one-hot encode this column.\n",
    "\n",
    "All the other columns do not need one-hot encoding."
   ],
   "id": "f8307930b2f780e3"
  },
  {
   "metadata": {
    "ExecuteTime": {
     "end_time": "2025-06-06T16:23:31.067936Z",
     "start_time": "2025-06-06T16:23:31.017828Z"
    }
   },
   "cell_type": "code",
   "source": [
    "# Define the categorical features to encode\n",
    "categorical_features_to_encode = [\n",
    "    'Gender',\n",
    "    'Education',\n",
    "    'EmploymentDurationCurrentEmployer',\n",
    "    'VerificationType',\n",
    "]\n",
    "\n",
    "# One-hot encode the categorical features\n",
    "df = pd.get_dummies(df, columns=categorical_features_to_encode, drop_first=False)\n",
    "# Note how drop_first=False is used to keep all categories, this is for now done due to explainability purposes, as we want to see all categories in the final dataset. In practice, you might want to set this to True to avoid multicollinearity. (i.e. this will help with SHAP plots later on) (+ XGBoost / LightGBM should be robust to multicollinearity).\n",
    "\n",
    "# Check the DataFrame info again to see the changes\n",
    "df.info()"
   ],
   "id": "aaf8b804e2839b97",
   "outputs": [
    {
     "name": "stdout",
     "output_type": "stream",
     "text": [
      "<class 'pandas.core.frame.DataFrame'>\n",
      "Index: 400120 entries, 0 to 400169\n",
      "Data columns (total 41 columns):\n",
      " #   Column                                            Non-Null Count   Dtype         \n",
      "---  ------                                            --------------   -----         \n",
      " 0   Age                                               400120 non-null  int64         \n",
      " 1   NewCreditCustomer                                 400120 non-null  bool          \n",
      " 2   NoOfPreviousLoansBeforeLoan                       400120 non-null  int64         \n",
      " 3   AmountOfPreviousLoansBeforeLoan                   400120 non-null  float64       \n",
      " 4   PreviousRepaymentsBeforeLoan                      400120 non-null  int64         \n",
      " 5   PreviousEarlyRepaymentsBeforeLoan                 400120 non-null  int64         \n",
      " 6   PreviousEarlyRepaymentsCountBeforeLoan            400120 non-null  int64         \n",
      " 7   Amount                                            400120 non-null  float64       \n",
      " 8   AppliedAmount                                     400120 non-null  float64       \n",
      " 9   Interest                                          400120 non-null  float64       \n",
      " 10  LoanDuration                                      400120 non-null  int64         \n",
      " 11  MonthlyPayment                                    400120 non-null  float64       \n",
      " 12  LiabilitiesTotal                                  400120 non-null  float64       \n",
      " 13  ExistingLiabilities                               400120 non-null  int64         \n",
      " 14  Defaulted                                         400120 non-null  int64         \n",
      " 15  LoanDate                                          400120 non-null  datetime64[ns]\n",
      " 16  Gender_0.0                                        400120 non-null  bool          \n",
      " 17  Gender_1.0                                        400120 non-null  bool          \n",
      " 18  Gender_2.0                                        400120 non-null  bool          \n",
      " 19  Education_-1.0                                    400120 non-null  bool          \n",
      " 20  Education_0.0                                     400120 non-null  bool          \n",
      " 21  Education_1.0                                     400120 non-null  bool          \n",
      " 22  Education_2.0                                     400120 non-null  bool          \n",
      " 23  Education_3.0                                     400120 non-null  bool          \n",
      " 24  Education_4.0                                     400120 non-null  bool          \n",
      " 25  Education_5.0                                     400120 non-null  bool          \n",
      " 26  EmploymentDurationCurrentEmployer_TrialPeriod     400120 non-null  bool          \n",
      " 27  EmploymentDurationCurrentEmployer_UpTo1Year       400120 non-null  bool          \n",
      " 28  EmploymentDurationCurrentEmployer_UpTo2Years      400120 non-null  bool          \n",
      " 29  EmploymentDurationCurrentEmployer_UpTo3Years      400120 non-null  bool          \n",
      " 30  EmploymentDurationCurrentEmployer_UpTo4Years      400120 non-null  bool          \n",
      " 31  EmploymentDurationCurrentEmployer_UpTo5Years      400120 non-null  bool          \n",
      " 32  EmploymentDurationCurrentEmployer_MoreThan5Years  400120 non-null  bool          \n",
      " 33  EmploymentDurationCurrentEmployer_Retiree         400120 non-null  bool          \n",
      " 34  EmploymentDurationCurrentEmployer_Other           400120 non-null  bool          \n",
      " 35  EmploymentDurationCurrentEmployer_Unknown         400120 non-null  bool          \n",
      " 36  VerificationType_0.0                              400120 non-null  bool          \n",
      " 37  VerificationType_1.0                              400120 non-null  bool          \n",
      " 38  VerificationType_2.0                              400120 non-null  bool          \n",
      " 39  VerificationType_3.0                              400120 non-null  bool          \n",
      " 40  VerificationType_4.0                              400120 non-null  bool          \n",
      "dtypes: bool(26), datetime64[ns](1), float64(6), int64(8)\n",
      "memory usage: 58.8 MB\n"
     ]
    }
   ],
   "execution_count": 818
  },
  {
   "metadata": {},
   "cell_type": "markdown",
   "source": [
    "## Scaling Data\n",
    "With the data one-hot encoded, we can continue with scaling the numerical features. This is necessary for some machine learning algorithms, such as logistic regression, SVM, and KNN, which are sensitive to the scale of the features.\n",
    "\n",
    "Before we scale the data, we will split it into training and test sets to avoid data leakage. We will use the `LoanDate` column to split the data chronologically, ensuring that the training set contains only data from before the test set. After the split, we can drop the column, and continue with scaling the numerical features."
   ],
   "id": "21c84824baf1a576"
  },
  {
   "metadata": {
    "ExecuteTime": {
     "end_time": "2025-06-06T16:23:31.254694Z",
     "start_time": "2025-06-06T16:23:31.120039Z"
    }
   },
   "cell_type": "code",
   "source": [
    "# Visualizing the LoanDate column to understand the distribution of the data over time\n",
    "loans_by_month = df['LoanDate'].groupby(df['LoanDate'].dt.to_period('M')).size()\n",
    "\n",
    "plt.style.use('seaborn-v0_8-whitegrid')\n",
    "fig, ax = plt.subplots(figsize=(16, 7))\n",
    "\n",
    "loans_by_month.plot(kind='line', ax=ax, color='navy', label='Number of Loans per Month')\n",
    "\n",
    "split_date = pd.to_datetime('2020-01-01') # Note that covid started around this time!\n",
    "ax.axvline(\n",
    "    x=split_date,\n",
    "    color='red',\n",
    "    linestyle='--',\n",
    "    linewidth=2,\n",
    "    label=f'Split Date ({split_date.date()})'\n",
    ")\n",
    "\n",
    "ax.set_title('Distribution of Loans Originated Over Time', fontsize=16, fontweight='bold')\n",
    "ax.set_xlabel('Origination Date', fontsize=12)\n",
    "ax.set_ylabel('Number of Loans', fontsize=12)\n",
    "ax.legend()\n",
    "ax.set_yscale('log')\n",
    "plt.tight_layout()\n",
    "plt.show()"
   ],
   "id": "122ba2571fb025b",
   "outputs": [
    {
     "data": {
      "text/plain": [
       "<Figure size 1600x700 with 1 Axes>"
      ],
      "image/png": "[encoded data removed]"
     },
     "metadata": {},
     "output_type": "display_data"
    }
   ],
   "execution_count": 819
  },
  {
   "metadata": {
    "ExecuteTime": {
     "end_time": "2025-06-06T16:23:31.334730Z",
     "start_time": "2025-06-06T16:23:31.303895Z"
    }
   },
   "cell_type": "code",
   "source": [
    "# Split using a specific date into training/validation and test sets\n",
    "split_date = pd.to_datetime('2020-01-01')\n",
    "train_val_df = df[df['LoanDate'] < split_date]\n",
    "test_df = df[df['LoanDate'] >= split_date]\n",
    "\n",
    "# Drop the LoanDate column from both DataFrames\n",
    "train_val_df = train_val_df.drop(columns=['LoanDate'])\n",
    "test_df = test_df.drop(columns=['LoanDate'])\n",
    "\n",
    "# Check the shapes of the resulting DataFrames\n",
    "print(f\"Training/Validation set shape: {train_val_df.shape}\")\n",
    "print(f\"Test set shape: {test_df.shape}\")"
   ],
   "id": "864d2fe904900d07",
   "outputs": [
    {
     "name": "stdout",
     "output_type": "stream",
     "text": [
      "Training/Validation set shape: (130082, 40)\n",
      "Test set shape: (270038, 40)\n"
     ]
    }
   ],
   "execution_count": 820
  },
  {
   "metadata": {
    "ExecuteTime": {
     "end_time": "2025-06-06T16:23:31.402779Z",
     "start_time": "2025-06-06T16:23:31.392611Z"
    }
   },
   "cell_type": "code",
   "source": [
    "# Split training/validation set into training and validation sets\n",
    "X = train_val_df.drop(columns=['Defaulted'])\n",
    "y = train_val_df['Defaulted']\n",
    "\n",
    "X_train, X_val, y_train, y_val = train_test_split(\n",
    "    X, y, test_size=0.2, random_state=0, shuffle=False\n",
    ")\n",
    "print(f\"Training set shape: {X_train.shape}\")\n",
    "print(f\"Validation set shape: {X_val.shape}\")\n",
    "print(f\"Test set shape: {test_df.shape}\")"
   ],
   "id": "29ef7ff6f69d7b66",
   "outputs": [
    {
     "name": "stdout",
     "output_type": "stream",
     "text": [
      "Training set shape: (104065, 39)\n",
      "Validation set shape: (26017, 39)\n",
      "Test set shape: (270038, 40)\n"
     ]
    }
   ],
   "execution_count": 821
  },
  {
   "metadata": {
    "ExecuteTime": {
     "end_time": "2025-06-06T16:23:31.458427Z",
     "start_time": "2025-06-06T16:23:31.450654Z"
    }
   },
   "cell_type": "code",
   "source": [
    "# Start scaling the numerical features\n",
    "numerical_features = X_train.select_dtypes(include=['float64', 'int64']).columns.tolist()\n",
    "scaler = StandardScaler()\n",
    "scaler.fit(X_train[numerical_features])"
   ],
   "id": "261942a439e50866",
   "outputs": [
    {
     "data": {
      "text/plain": [
       "StandardScaler()"
      ],
      "text/html": [
       "<style>#sk-container-id-3 {\n",
       "  /* Definition of color scheme common for light and dark mode */\n",
       "  --sklearn-color-text: #000;\n",
       "  --sklearn-color-text-muted: #666;\n",
       "  --sklearn-color-line: gray;\n",
       "  /* Definition of color scheme for unfitted estimators */\n",
       "  --sklearn-color-unfitted-level-0: #fff5e6;\n",
       "  --sklearn-color-unfitted-level-1: #f6e4d2;\n",
       "  --sklearn-color-unfitted-level-2: #ffe0b3;\n",
       "  --sklearn-color-unfitted-level-3: chocolate;\n",
       "  /* Definition of color scheme for fitted estimators */\n",
       "  --sklearn-color-fitted-level-0: #f0f8ff;\n",
       "  --sklearn-color-fitted-level-1: #d4ebff;\n",
       "  --sklearn-color-fitted-level-2: #b3dbfd;\n",
       "  --sklearn-color-fitted-level-3: cornflowerblue;\n",
       "\n",
       "  /* Specific color for light theme */\n",
       "  --sklearn-color-text-on-default-background: var(--sg-text-color, var(--theme-code-foreground, var(--jp-content-font-color1, black)));\n",
       "  --sklearn-color-background: var(--sg-background-color, var(--theme-background, var(--jp-layout-color0, white)));\n",
       "  --sklearn-color-border-box: var(--sg-text-color, var(--theme-code-foreground, var(--jp-content-font-color1, black)));\n",
       "  --sklearn-color-icon: #696969;\n",
       "\n",
       "  @media (prefers-color-scheme: dark) {\n",
       "    /* Redefinition of color scheme for dark theme */\n",
       "    --sklearn-color-text-on-default-background: var(--sg-text-color, var(--theme-code-foreground, var(--jp-content-font-color1, white)));\n",
       "    --sklearn-color-background: var(--sg-background-color, var(--theme-background, var(--jp-layout-color0, #111)));\n",
       "    --sklearn-color-border-box: var(--sg-text-color, var(--theme-code-foreground, var(--jp-content-font-color1, white)));\n",
       "    --sklearn-color-icon: #878787;\n",
       "  }\n",
       "}\n",
       "\n",
       "#sk-container-id-3 {\n",
       "  color: var(--sklearn-color-text);\n",
       "}\n",
       "\n",
       "#sk-container-id-3 pre {\n",
       "  padding: 0;\n",
       "}\n",
       "\n",
       "#sk-container-id-3 input.sk-hidden--visually {\n",
       "  border: 0;\n",
       "  clip: rect(1px 1px 1px 1px);\n",
       "  clip: rect(1px, 1px, 1px, 1px);\n",
       "  height: 1px;\n",
       "  margin: -1px;\n",
       "  overflow: hidden;\n",
       "  padding: 0;\n",
       "  position: absolute;\n",
       "  width: 1px;\n",
       "}\n",
       "\n",
       "#sk-container-id-3 div.sk-dashed-wrapped {\n",
       "  border: 1px dashed var(--sklearn-color-line);\n",
       "  margin: 0 0.4em 0.5em 0.4em;\n",
       "  box-sizing: border-box;\n",
       "  padding-bottom: 0.4em;\n",
       "  background-color: var(--sklearn-color-background);\n",
       "}\n",
       "\n",
       "#sk-container-id-3 div.sk-container {\n",
       "  /* jupyter's `normalize.less` sets `[hidden] { display: none; }`\n",
       "     but bootstrap.min.css set `[hidden] { display: none !important; }`\n",
       "     so we also need the `!important` here to be able to override the\n",
       "     default hidden behavior on the sphinx rendered scikit-learn.org.\n",
       "     See: https://github.com/scikit-learn/scikit-learn/issues/21755 */\n",
       "  display: inline-block !important;\n",
       "  position: relative;\n",
       "}\n",
       "\n",
       "#sk-container-id-3 div.sk-text-repr-fallback {\n",
       "  display: none;\n",
       "}\n",
       "\n",
       "div.sk-parallel-item,\n",
       "div.sk-serial,\n",
       "div.sk-item {\n",
       "  /* draw centered vertical line to link estimators */\n",
       "  background-image: linear-gradient(var(--sklearn-color-text-on-default-background), var(--sklearn-color-text-on-default-background));\n",
       "  background-size: 2px 100%;\n",
       "  background-repeat: no-repeat;\n",
       "  background-position: center center;\n",
       "}\n",
       "\n",
       "/* Parallel-specific style estimator block */\n",
       "\n",
       "#sk-container-id-3 div.sk-parallel-item::after {\n",
       "  content: \"\";\n",
       "  width: 100%;\n",
       "  border-bottom: 2px solid var(--sklearn-color-text-on-default-background);\n",
       "  flex-grow: 1;\n",
       "}\n",
       "\n",
       "#sk-container-id-3 div.sk-parallel {\n",
       "  display: flex;\n",
       "  align-items: stretch;\n",
       "  justify-content: center;\n",
       "  background-color: var(--sklearn-color-background);\n",
       "  position: relative;\n",
       "}\n",
       "\n",
       "#sk-container-id-3 div.sk-parallel-item {\n",
       "  display: flex;\n",
       "  flex-direction: column;\n",
       "}\n",
       "\n",
       "#sk-container-id-3 div.sk-parallel-item:first-child::after {\n",
       "  align-self: flex-end;\n",
       "  width: 50%;\n",
       "}\n",
       "\n",
       "#sk-container-id-3 div.sk-parallel-item:last-child::after {\n",
       "  align-self: flex-start;\n",
       "  width: 50%;\n",
       "}\n",
       "\n",
       "#sk-container-id-3 div.sk-parallel-item:only-child::after {\n",
       "  width: 0;\n",
       "}\n",
       "\n",
       "/* Serial-specific style estimator block */\n",
       "\n",
       "#sk-container-id-3 div.sk-serial {\n",
       "  display: flex;\n",
       "  flex-direction: column;\n",
       "  align-items: center;\n",
       "  background-color: var(--sklearn-color-background);\n",
       "  padding-right: 1em;\n",
       "  padding-left: 1em;\n",
       "}\n",
       "\n",
       "\n",
       "/* Toggleable style: style used for estimator/Pipeline/ColumnTransformer box that is\n",
       "clickable and can be expanded/collapsed.\n",
       "- Pipeline and ColumnTransformer use this feature and define the default style\n",
       "- Estimators will overwrite some part of the style using the `sk-estimator` class\n",
       "*/\n",
       "\n",
       "/* Pipeline and ColumnTransformer style (default) */\n",
       "\n",
       "#sk-container-id-3 div.sk-toggleable {\n",
       "  /* Default theme specific background. It is overwritten whether we have a\n",
       "  specific estimator or a Pipeline/ColumnTransformer */\n",
       "  background-color: var(--sklearn-color-background);\n",
       "}\n",
       "\n",
       "/* Toggleable label */\n",
       "#sk-container-id-3 label.sk-toggleable__label {\n",
       "  cursor: pointer;\n",
       "  display: flex;\n",
       "  width: 100%;\n",
       "  margin-bottom: 0;\n",
       "  padding: 0.5em;\n",
       "  box-sizing: border-box;\n",
       "  text-align: center;\n",
       "  align-items: start;\n",
       "  justify-content: space-between;\n",
       "  gap: 0.5em;\n",
       "}\n",
       "\n",
       "#sk-container-id-3 label.sk-toggleable__label .caption {\n",
       "  font-size: 0.6rem;\n",
       "  font-weight: lighter;\n",
       "  color: var(--sklearn-color-text-muted);\n",
       "}\n",
       "\n",
       "#sk-container-id-3 label.sk-toggleable__label-arrow:before {\n",
       "  /* Arrow on the left of the label */\n",
       "  content: \"▸\";\n",
       "  float: left;\n",
       "  margin-right: 0.25em;\n",
       "  color: var(--sklearn-color-icon);\n",
       "}\n",
       "\n",
       "#sk-container-id-3 label.sk-toggleable__label-arrow:hover:before {\n",
       "  color: var(--sklearn-color-text);\n",
       "}\n",
       "\n",
       "/* Toggleable content - dropdown */\n",
       "\n",
       "#sk-container-id-3 div.sk-toggleable__content {\n",
       "  max-height: 0;\n",
       "  max-width: 0;\n",
       "  overflow: hidden;\n",
       "  text-align: left;\n",
       "  /* unfitted */\n",
       "  background-color: var(--sklearn-color-unfitted-level-0);\n",
       "}\n",
       "\n",
       "#sk-container-id-3 div.sk-toggleable__content.fitted {\n",
       "  /* fitted */\n",
       "  background-color: var(--sklearn-color-fitted-level-0);\n",
       "}\n",
       "\n",
       "#sk-container-id-3 div.sk-toggleable__content pre {\n",
       "  margin: 0.2em;\n",
       "  border-radius: 0.25em;\n",
       "  color: var(--sklearn-color-text);\n",
       "  /* unfitted */\n",
       "  background-color: var(--sklearn-color-unfitted-level-0);\n",
       "}\n",
       "\n",
       "#sk-container-id-3 div.sk-toggleable__content.fitted pre {\n",
       "  /* unfitted */\n",
       "  background-color: var(--sklearn-color-fitted-level-0);\n",
       "}\n",
       "\n",
       "#sk-container-id-3 input.sk-toggleable__control:checked~div.sk-toggleable__content {\n",
       "  /* Expand drop-down */\n",
       "  max-height: 200px;\n",
       "  max-width: 100%;\n",
       "  overflow: auto;\n",
       "}\n",
       "\n",
       "#sk-container-id-3 input.sk-toggleable__control:checked~label.sk-toggleable__label-arrow:before {\n",
       "  content: \"▾\";\n",
       "}\n",
       "\n",
       "/* Pipeline/ColumnTransformer-specific style */\n",
       "\n",
       "#sk-container-id-3 div.sk-label input.sk-toggleable__control:checked~label.sk-toggleable__label {\n",
       "  color: var(--sklearn-color-text);\n",
       "  background-color: var(--sklearn-color-unfitted-level-2);\n",
       "}\n",
       "\n",
       "#sk-container-id-3 div.sk-label.fitted input.sk-toggleable__control:checked~label.sk-toggleable__label {\n",
       "  background-color: var(--sklearn-color-fitted-level-2);\n",
       "}\n",
       "\n",
       "/* Estimator-specific style */\n",
       "\n",
       "/* Colorize estimator box */\n",
       "#sk-container-id-3 div.sk-estimator input.sk-toggleable__control:checked~label.sk-toggleable__label {\n",
       "  /* unfitted */\n",
       "  background-color: var(--sklearn-color-unfitted-level-2);\n",
       "}\n",
       "\n",
       "#sk-container-id-3 div.sk-estimator.fitted input.sk-toggleable__control:checked~label.sk-toggleable__label {\n",
       "  /* fitted */\n",
       "  background-color: var(--sklearn-color-fitted-level-2);\n",
       "}\n",
       "\n",
       "#sk-container-id-3 div.sk-label label.sk-toggleable__label,\n",
       "#sk-container-id-3 div.sk-label label {\n",
       "  /* The background is the default theme color */\n",
       "  color: var(--sklearn-color-text-on-default-background);\n",
       "}\n",
       "\n",
       "/* On hover, darken the color of the background */\n",
       "#sk-container-id-3 div.sk-label:hover label.sk-toggleable__label {\n",
       "  color: var(--sklearn-color-text);\n",
       "  background-color: var(--sklearn-color-unfitted-level-2);\n",
       "}\n",
       "\n",
       "/* Label box, darken color on hover, fitted */\n",
       "#sk-container-id-3 div.sk-label.fitted:hover label.sk-toggleable__label.fitted {\n",
       "  color: var(--sklearn-color-text);\n",
       "  background-color: var(--sklearn-color-fitted-level-2);\n",
       "}\n",
       "\n",
       "/* Estimator label */\n",
       "\n",
       "#sk-container-id-3 div.sk-label label {\n",
       "  font-family: monospace;\n",
       "  font-weight: bold;\n",
       "  display: inline-block;\n",
       "  line-height: 1.2em;\n",
       "}\n",
       "\n",
       "#sk-container-id-3 div.sk-label-container {\n",
       "  text-align: center;\n",
       "}\n",
       "\n",
       "/* Estimator-specific */\n",
       "#sk-container-id-3 div.sk-estimator {\n",
       "  font-family: monospace;\n",
       "  border: 1px dotted var(--sklearn-color-border-box);\n",
       "  border-radius: 0.25em;\n",
       "  box-sizing: border-box;\n",
       "  margin-bottom: 0.5em;\n",
       "  /* unfitted */\n",
       "  background-color: var(--sklearn-color-unfitted-level-0);\n",
       "}\n",
       "\n",
       "#sk-container-id-3 div.sk-estimator.fitted {\n",
       "  /* fitted */\n",
       "  background-color: var(--sklearn-color-fitted-level-0);\n",
       "}\n",
       "\n",
       "/* on hover */\n",
       "#sk-container-id-3 div.sk-estimator:hover {\n",
       "  /* unfitted */\n",
       "  background-color: var(--sklearn-color-unfitted-level-2);\n",
       "}\n",
       "\n",
       "#sk-container-id-3 div.sk-estimator.fitted:hover {\n",
       "  /* fitted */\n",
       "  background-color: var(--sklearn-color-fitted-level-2);\n",
       "}\n",
       "\n",
       "/* Specification for estimator info (e.g. \"i\" and \"?\") */\n",
       "\n",
       "/* Common style for \"i\" and \"?\" */\n",
       "\n",
       ".sk-estimator-doc-link,\n",
       "a:link.sk-estimator-doc-link,\n",
       "a:visited.sk-estimator-doc-link {\n",
       "  float: right;\n",
       "  font-size: smaller;\n",
       "  line-height: 1em;\n",
       "  font-family: monospace;\n",
       "  background-color: var(--sklearn-color-background);\n",
       "  border-radius: 1em;\n",
       "  height: 1em;\n",
       "  width: 1em;\n",
       "  text-decoration: none !important;\n",
       "  margin-left: 0.5em;\n",
       "  text-align: center;\n",
       "  /* unfitted */\n",
       "  border: var(--sklearn-color-unfitted-level-1) 1pt solid;\n",
       "  color: var(--sklearn-color-unfitted-level-1);\n",
       "}\n",
       "\n",
       ".sk-estimator-doc-link.fitted,\n",
       "a:link.sk-estimator-doc-link.fitted,\n",
       "a:visited.sk-estimator-doc-link.fitted {\n",
       "  /* fitted */\n",
       "  border: var(--sklearn-color-fitted-level-1) 1pt solid;\n",
       "  color: var(--sklearn-color-fitted-level-1);\n",
       "}\n",
       "\n",
       "/* On hover */\n",
       "div.sk-estimator:hover .sk-estimator-doc-link:hover,\n",
       ".sk-estimator-doc-link:hover,\n",
       "div.sk-label-container:hover .sk-estimator-doc-link:hover,\n",
       ".sk-estimator-doc-link:hover {\n",
       "  /* unfitted */\n",
       "  background-color: var(--sklearn-color-unfitted-level-3);\n",
       "  color: var(--sklearn-color-background);\n",
       "  text-decoration: none;\n",
       "}\n",
       "\n",
       "div.sk-estimator.fitted:hover .sk-estimator-doc-link.fitted:hover,\n",
       ".sk-estimator-doc-link.fitted:hover,\n",
       "div.sk-label-container:hover .sk-estimator-doc-link.fitted:hover,\n",
       ".sk-estimator-doc-link.fitted:hover {\n",
       "  /* fitted */\n",
       "  background-color: var(--sklearn-color-fitted-level-3);\n",
       "  color: var(--sklearn-color-background);\n",
       "  text-decoration: none;\n",
       "}\n",
       "\n",
       "/* Span, style for the box shown on hovering the info icon */\n",
       ".sk-estimator-doc-link span {\n",
       "  display: none;\n",
       "  z-index: 9999;\n",
       "  position: relative;\n",
       "  font-weight: normal;\n",
       "  right: .2ex;\n",
       "  padding: .5ex;\n",
       "  margin: .5ex;\n",
       "  width: min-content;\n",
       "  min-width: 20ex;\n",
       "  max-width: 50ex;\n",
       "  color: var(--sklearn-color-text);\n",
       "  box-shadow: 2pt 2pt 4pt #999;\n",
       "  /* unfitted */\n",
       "  background: var(--sklearn-color-unfitted-level-0);\n",
       "  border: .5pt solid var(--sklearn-color-unfitted-level-3);\n",
       "}\n",
       "\n",
       ".sk-estimator-doc-link.fitted span {\n",
       "  /* fitted */\n",
       "  background: var(--sklearn-color-fitted-level-0);\n",
       "  border: var(--sklearn-color-fitted-level-3);\n",
       "}\n",
       "\n",
       ".sk-estimator-doc-link:hover span {\n",
       "  display: block;\n",
       "}\n",
       "\n",
       "/* \"?\"-specific style due to the `<a>` HTML tag */\n",
       "\n",
       "#sk-container-id-3 a.estimator_doc_link {\n",
       "  float: right;\n",
       "  font-size: 1rem;\n",
       "  line-height: 1em;\n",
       "  font-family: monospace;\n",
       "  background-color: var(--sklearn-color-background);\n",
       "  border-radius: 1rem;\n",
       "  height: 1rem;\n",
       "  width: 1rem;\n",
       "  text-decoration: none;\n",
       "  /* unfitted */\n",
       "  color: var(--sklearn-color-unfitted-level-1);\n",
       "  border: var(--sklearn-color-unfitted-level-1) 1pt solid;\n",
       "}\n",
       "\n",
       "#sk-container-id-3 a.estimator_doc_link.fitted {\n",
       "  /* fitted */\n",
       "  border: var(--sklearn-color-fitted-level-1) 1pt solid;\n",
       "  color: var(--sklearn-color-fitted-level-1);\n",
       "}\n",
       "\n",
       "/* On hover */\n",
       "#sk-container-id-3 a.estimator_doc_link:hover {\n",
       "  /* unfitted */\n",
       "  background-color: var(--sklearn-color-unfitted-level-3);\n",
       "  color: var(--sklearn-color-background);\n",
       "  text-decoration: none;\n",
       "}\n",
       "\n",
       "#sk-container-id-3 a.estimator_doc_link.fitted:hover {\n",
       "  /* fitted */\n",
       "  background-color: var(--sklearn-color-fitted-level-3);\n",
       "}\n",
       "</style><div id=\"sk-container-id-3\" class=\"sk-top-container\"><div class=\"sk-text-repr-fallback\"><pre>StandardScaler()</pre><b>In a Jupyter environment, please rerun this cell to show the HTML representation or trust the notebook. <br />On GitHub, the HTML representation is unable to render, please try loading this page with nbviewer.org.</b></div><div class=\"sk-container\" hidden><div class=\"sk-item\"><div class=\"sk-estimator fitted sk-toggleable\"><input class=\"sk-toggleable__control sk-hidden--visually\" id=\"sk-estimator-id-3\" type=\"checkbox\" checked><label for=\"sk-estimator-id-3\" class=\"sk-toggleable__label fitted sk-toggleable__label-arrow\"><div><div>StandardScaler</div></div><div><a class=\"sk-estimator-doc-link fitted\" rel=\"noreferrer\" target=\"_blank\" href=\"https://scikit-learn.org/1.6/modules/generated/sklearn.preprocessing.StandardScaler.html\">?<span>Documentation for StandardScaler</span></a><span class=\"sk-estimator-doc-link fitted\">i<span>Fitted</span></span></div></label><div class=\"sk-toggleable__content fitted\"><pre>StandardScaler()</pre></div> </div></div></div></div>"
      ]
     },
     "execution_count": 822,
     "metadata": {},
     "output_type": "execute_result"
    }
   ],
   "execution_count": 822
  },
  {
   "metadata": {
    "ExecuteTime": {
     "end_time": "2025-06-06T16:23:31.555099Z",
     "start_time": "2025-06-06T16:23:31.505929Z"
    }
   },
   "cell_type": "code",
   "source": [
    "# Transform the training, validation, and test sets\n",
    "X_train_scaled = X_train.copy()\n",
    "X_val_scaled = X_val.copy()\n",
    "\n",
    "# Dropping the target variable from the test set\n",
    "X_test = test_df.drop(columns=['Defaulted'])\n",
    "y_test = test_df['Defaulted']\n",
    "X_test_scaled = X_test.copy()\n",
    "\n",
    "# Apply transformation\n",
    "X_train_scaled[numerical_features] = scaler.transform(X_train[numerical_features])\n",
    "X_val_scaled[numerical_features] = scaler.transform(X_val[numerical_features])\n",
    "X_test_scaled[numerical_features] = scaler.transform(X_test[numerical_features])\n",
    "\n",
    "# Verification: We expect 0 for x_train, and around, but not exactly, 0 for x_val and x_test\n",
    "print(f\"\\nMean of 'Age' in scaled training data:   {X_train_scaled['Age'].mean():.4f}\")\n",
    "print(f\"Mean of 'Age' in scaled validation data: {X_val_scaled['Age'].mean():.4f}\")\n",
    "print(f\"Mean of 'Age' in scaled test data:       {X_test_scaled['Age'].mean():.4f}\")"
   ],
   "id": "43614103993d8001",
   "outputs": [
    {
     "name": "stdout",
     "output_type": "stream",
     "text": [
      "\n",
      "Mean of 'Age' in scaled training data:   0.0000\n",
      "Mean of 'Age' in scaled validation data: 0.0627\n",
      "Mean of 'Age' in scaled test data:       -0.0429\n"
     ]
    }
   ],
   "execution_count": 823
  },
  {
   "metadata": {
    "ExecuteTime": {
     "end_time": "2025-06-06T16:23:34.931125Z",
     "start_time": "2025-06-06T16:23:31.602595Z"
    }
   },
   "cell_type": "code",
   "source": [
    "# Exporting the preprocessed data\n",
    "\n",
    "# Check if a 'ml' directory exists, if not, create it\n",
    "if not os.path.exists('ml'):\n",
    "    os.makedirs('ml')\n",
    "\n",
    "X_train_scaled.to_csv('ml/X_train_scaled.csv', index=False)\n",
    "X_val_scaled.to_csv('ml/X_val_scaled.csv', index=False)\n",
    "X_test_scaled.to_csv('ml/X_test_scaled.csv', index=False)\n",
    "y_train.to_csv('ml/y_train.csv', index=False)\n",
    "y_val.to_csv('ml/y_val.csv', index=False)\n",
    "y_test.to_csv('ml/y_test.csv', index=False)\n",
    "print(\"Preprocessed data saved to 'ml' directory.\")"
   ],
   "id": "32d401672468a1f8",
   "outputs": [
    {
     "name": "stdout",
     "output_type": "stream",
     "text": [
      "Preprocessed data saved to 'ml' directory.\n"
     ]
    }
   ],
   "execution_count": 824
  }
 ],
 "metadata": {
  "kernelspec": {
   "display_name": "Python 3",
   "language": "python",
   "name": "python3"
  },
  "language_info": {
   "codemirror_mode": {
    "name": "ipython",
    "version": 2
   },
   "file_extension": ".py",
   "mimetype": "text/x-python",
   "name": "python",
   "nbconvert_exporter": "python",
   "pygments_lexer": "ipython2",
   "version": "2.7.6"
  }
 },
 "nbformat": 4,
 "nbformat_minor": 5
}
